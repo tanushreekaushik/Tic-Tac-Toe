{
 "cells": [
  {
   "cell_type": "code",
   "execution_count": 1,
   "id": "5af229d1",
   "metadata": {},
   "outputs": [],
   "source": [
    "#Tic Tac Toe Game Project"
   ]
  },
  {
   "cell_type": "code",
   "execution_count": 2,
   "id": "28effc7a",
   "metadata": {},
   "outputs": [],
   "source": [
    "#Create 9*9 Board"
   ]
  },
  {
   "cell_type": "code",
   "execution_count": 3,
   "id": "756779a5",
   "metadata": {},
   "outputs": [],
   "source": [
    "from IPython.display import clear_output"
   ]
  },
  {
   "cell_type": "code",
   "execution_count": 4,
   "id": "2882ef04",
   "metadata": {},
   "outputs": [],
   "source": [
    "#creating display board\n",
    "\n",
    "def display_board(board):\n",
    "    clear_output() #only works in jupiter\n",
    "    \n",
    "    print(board[0]+' | '+board[1]+' | '+board[2])\n",
    "    print('---------')\n",
    "    print(board[3]+' | '+board[4]+' | '+board[5])\n",
    "    print('---------')\n",
    "    print(board[6]+' | '+board[7]+' | '+board[8])"
   ]
  },
  {
   "cell_type": "code",
   "execution_count": 5,
   "id": "2ee68644",
   "metadata": {},
   "outputs": [
    {
     "name": "stdout",
     "output_type": "stream",
     "text": [
      "  |   |  \n",
      "---------\n",
      "  |   |  \n",
      "---------\n",
      "  |   |  \n"
     ]
    }
   ],
   "source": [
    "#test-run\n",
    "test_board=[' ',' ',' ',' ',' ',' ',' ',' ',' ']\n",
    "display_board(test_board)"
   ]
  },
  {
   "cell_type": "code",
   "execution_count": 6,
   "id": "16232839",
   "metadata": {},
   "outputs": [],
   "source": [
    "#Define your players\n",
    "def player_input():\n",
    "    marker=''\n",
    "    \n",
    "    while not(marker=='X' or marker=='O'):\n",
    "        marker=input(\"Player 1: Do you want to be X or O?\").upper()\n",
    "        \n",
    "    if marker=='X':\n",
    "        return ('X', 'O')\n",
    "    else:\n",
    "        return ('O','X')"
   ]
  },
  {
   "cell_type": "code",
   "execution_count": 7,
   "id": "6eef171d",
   "metadata": {},
   "outputs": [],
   "source": [
    "#mark-the-position\n",
    "def place_marker(board, marker, position):\n",
    "    board[position]=marker"
   ]
  },
  {
   "cell_type": "code",
   "execution_count": 8,
   "id": "49ed3645",
   "metadata": {},
   "outputs": [],
   "source": [
    "#Did the player win?\n",
    "def win_check(board,mark):\n",
    "    return ((board[0]==mark and board[1]==mark and board[2]==mark) or\n",
    "           (board[3]==mark and board[4]==mark and board[5]==mark) or\n",
    "           (board[6]==mark and board[7]==mark and board[8]==mark) or\n",
    "           (board[0]==mark and board[3]==mark and board[6]==mark) or\n",
    "           (board[1]==mark and board[4]==mark and board[7]==mark) or\n",
    "           (board[2]==mark and board[5]==mark and board[8]==mark) or\n",
    "           (board[0]==mark and board[4]==mark and board[8]==mark) or\n",
    "           (board[2]==mark and board[4]==mark and board[6]==mark)\n",
    "           )"
   ]
  },
  {
   "cell_type": "code",
   "execution_count": 9,
   "id": "a5c961bb",
   "metadata": {},
   "outputs": [],
   "source": [
    "#Which one goes first?\n",
    "import random\n",
    "def choose_first():\n",
    "    ans= random.randint(0,1)\n",
    "    if ans==0:\n",
    "        return 'Player 2'\n",
    "    else:\n",
    "        return 'Player 1'"
   ]
  },
  {
   "cell_type": "code",
   "execution_count": 10,
   "id": "821befb5",
   "metadata": {},
   "outputs": [],
   "source": [
    "#Is the position player is asking for available?\n",
    "def space_check(board,position):\n",
    "    if board[position]!=' ':\n",
    "        return False\n",
    "    else:\n",
    "        return True"
   ]
  },
  {
   "cell_type": "code",
   "execution_count": 11,
   "id": "89bb948a",
   "metadata": {},
   "outputs": [],
   "source": [
    "#Board-full?\n",
    "def full_board_check(board):\n",
    "    for i in range(0,9):\n",
    "        if space_check(board, i):\n",
    "            return False\n",
    "    return True"
   ]
  },
  {
   "cell_type": "code",
   "execution_count": 12,
   "id": "4539f1dc",
   "metadata": {},
   "outputs": [],
   "source": [
    "#Choose the position player wants to mark\n",
    "def player_choice(board):\n",
    "    pos=10\n",
    "    while pos not in [0,1,2,3,4,5,6,7,8] or not space_check(board,pos):\n",
    "        pos=int(input('Choose your next position: (0-8)'))\n",
    "        \n",
    "    return pos"
   ]
  },
  {
   "cell_type": "code",
   "execution_count": 13,
   "id": "6750fb31",
   "metadata": {},
   "outputs": [],
   "source": [
    "#Does the player want to replay the game?\n",
    "def replay():\n",
    "    ans='input(\"Do you want to play again?(Y/N)\")'\n",
    "    while ans!='Y' and ans!='N':\n",
    "        print(\"Please enter Y or N\")\n",
    "        ans=input(\"Do you want to play again?(Y/N)\")\n",
    "    if ans=='Y':\n",
    "        return True\n",
    "    else:\n",
    "        return False"
   ]
  },
  {
   "cell_type": "code",
   "execution_count": null,
   "id": "b18fd02f",
   "metadata": {},
   "outputs": [],
   "source": []
  },
  {
   "cell_type": "code",
   "execution_count": 14,
   "id": "78b4384f",
   "metadata": {},
   "outputs": [
    {
     "name": "stdout",
     "output_type": "stream",
     "text": [
      "  | X | O\n",
      "---------\n",
      "  | O | X\n",
      "---------\n",
      "O | X | O\n",
      "Player 2 has won!\n",
      "Please enter Y or N\n",
      "Do you want to play again?(Y/N)n\n",
      "Please enter Y or N\n",
      "Do you want to play again?(Y/N)N\n"
     ]
    }
   ],
   "source": [
    "#Final-game-code\n",
    "\n",
    "print('Welcome to Tic Tac Toe!')\n",
    "while True:\n",
    "    #resetting the board\n",
    "    board=[' ']*10\n",
    "    player1, player2=player_input()\n",
    "    turn=choose_first()\n",
    "    print(turn +' will go first.')\n",
    "    \n",
    "    play_game=input('Ready to play? Yes or No')\n",
    "    if play_game.lower()[0]=='y':\n",
    "        game_on=True\n",
    "    else:\n",
    "        game_on=False\n",
    "        \n",
    "    while game_on:\n",
    "        if turn=='Player 1':\n",
    "            display_board(board)\n",
    "            pos=player_choice(board)\n",
    "            place_marker(board,player1,pos)\n",
    "            \n",
    "            if win_check(board,player1):\n",
    "                display_board(board)\n",
    "                print('Congrats! You won the game.')\n",
    "                game_on=False\n",
    "                \n",
    "            else:\n",
    "                if (full_board_check(board)):\n",
    "                    display_board(board)\n",
    "                    print(\"OOPS! It's a draw!\")\n",
    "                    break\n",
    "                else:\n",
    "                        turn='Player 2'\n",
    "                        \n",
    "        else:\n",
    "            display_board(board)\n",
    "            position = player_choice(board)\n",
    "            place_marker(board, player2, position)\n",
    "\n",
    "            if win_check(board, player2):\n",
    "                display_board(board)\n",
    "                print('Player 2 has won!')\n",
    "                game_on = False\n",
    "            else:\n",
    "                if full_board_check(board):\n",
    "                    display_board(board)\n",
    "                    print('The game is a draw!')\n",
    "                    break\n",
    "                else:\n",
    "                    turn = 'Player 1'\n",
    "\n",
    "    if not replay():\n",
    "        break"
   ]
  },
  {
   "cell_type": "code",
   "execution_count": null,
   "id": "51780a03",
   "metadata": {},
   "outputs": [],
   "source": []
  }
 ],
 "metadata": {
  "kernelspec": {
   "display_name": "Python 3",
   "language": "python",
   "name": "python3"
  },
  "language_info": {
   "codemirror_mode": {
    "name": "ipython",
    "version": 3
   },
   "file_extension": ".py",
   "mimetype": "text/x-python",
   "name": "python",
   "nbconvert_exporter": "python",
   "pygments_lexer": "ipython3",
   "version": "3.8.8"
  }
 },
 "nbformat": 4,
 "nbformat_minor": 5
}
