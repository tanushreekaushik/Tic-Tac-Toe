{
 "cells": [
  {
   "cell_type": "code",
   "execution_count": 1,
   "id": "2f269983",
   "metadata": {},
   "outputs": [],
   "source": [
    "#Tic Tac Toe Game Project"
   ]
  },
  {
   "cell_type": "code",
   "execution_count": 12,
   "id": "67b37113",
   "metadata": {},
   "outputs": [],
   "source": [
    "#Create 9*9 Board\n",
    "\n",
    "l1=[1,2,3]\n",
    "l2=[1,2,3]\n",
    "for i in l1:\n",
    "    for j in l2:\n",
    "        a=\"\"\n",
    "    j=j+1\n",
    "i=i+1"
   ]
  },
  {
   "cell_type": "code",
   "execution_count": 13,
   "id": "de3fe792",
   "metadata": {},
   "outputs": [
    {
     "data": {
      "text/plain": [
       "''"
      ]
     },
     "execution_count": 13,
     "metadata": {},
     "output_type": "execute_result"
    }
   ],
   "source": [
    "a"
   ]
  },
  {
   "cell_type": "code",
   "execution_count": 14,
   "id": "f2c9b834",
   "metadata": {},
   "outputs": [],
   "source": [
    "from IPython.display import clear_output"
   ]
  },
  {
   "cell_type": "code",
   "execution_count": 17,
   "id": "58bda031",
   "metadata": {},
   "outputs": [],
   "source": [
    "def display_board(board):\n",
    "    clear_output()\n",
    "    \n",
    "    print(board[0]+' | '+board[1]+' | '+board[2])\n",
    "    print('---------')\n",
    "    print(board[3]+' | '+board[4]+' | '+board[5])\n",
    "    print('---------')\n",
    "    print(board[6]+' | '+board[7]+' | '+board[8])"
   ]
  },
  {
   "cell_type": "code",
   "execution_count": 18,
   "id": "d2016ba9",
   "metadata": {},
   "outputs": [
    {
     "name": "stdout",
     "output_type": "stream",
     "text": [
      "  |   |  \n",
      "---------\n",
      "  |   |  \n",
      "---------\n",
      "  |   |  \n"
     ]
    }
   ],
   "source": [
    "test_board=[' ',' ',' ',' ',' ',' ',' ',' ',' ']\n",
    "display_board(test_board)"
   ]
  },
  {
   "cell_type": "code",
   "execution_count": 19,
   "id": "8032e71f",
   "metadata": {},
   "outputs": [],
   "source": [
    "def player_input():\n",
    "    marker=''\n",
    "    \n",
    "    while not(marker=='X' or marker=='O'):\n",
    "        marker=input(\"Player 1: Do you want to be X or O?\").upper()\n",
    "        \n",
    "    if marker=='X':\n",
    "        return ('X', 'O')\n",
    "    else:\n",
    "        return ('O','X')"
   ]
  },
  {
   "cell_type": "code",
   "execution_count": 20,
   "id": "0c05ec10",
   "metadata": {},
   "outputs": [
    {
     "name": "stdout",
     "output_type": "stream",
     "text": [
      "Player 1: Do you want to be X or O?s\n",
      "Player 1: Do you want to be X or O?r\n",
      "Player 1: Do you want to be X or O?x\n"
     ]
    },
    {
     "data": {
      "text/plain": [
       "('X', 'O')"
      ]
     },
     "execution_count": 20,
     "metadata": {},
     "output_type": "execute_result"
    }
   ],
   "source": [
    "player_input()"
   ]
  },
  {
   "cell_type": "code",
   "execution_count": 21,
   "id": "099863b0",
   "metadata": {},
   "outputs": [],
   "source": [
    "def place_marker(board, marker, position):\n",
    "    board[position]=marker"
   ]
  },
  {
   "cell_type": "code",
   "execution_count": 22,
   "id": "a744e70b",
   "metadata": {},
   "outputs": [
    {
     "name": "stdout",
     "output_type": "stream",
     "text": [
      "  |   |  \n",
      "---------\n",
      "  |   |  \n",
      "---------\n",
      "  |   | &\n"
     ]
    }
   ],
   "source": [
    "place_marker(test_board,'&',8)\n",
    "display_board(test_board)"
   ]
  },
  {
   "cell_type": "code",
   "execution_count": 24,
   "id": "baeb1976",
   "metadata": {},
   "outputs": [],
   "source": [
    "def win_check(board,mark):\n",
    "    return ((board[0]==mark and board[1]==mark and board[2]==mark) or\n",
    "           (board[3]==mark and board[4]==mark and board[5]==mark) or\n",
    "           (board[6]==mark and board[7]==mark and board[8]==mark) or\n",
    "           (board[0]==mark and board[3]==mark and board[6]==mark) or\n",
    "           (board[1]==mark and board[4]==mark and board[7]==mark) or\n",
    "           (board[2]==mark and board[5]==mark and board[8]==mark) or\n",
    "           (board[0]==mark and board[4]==mark and board[8]==mark) or\n",
    "           (board[2]==mark and board[4]==mark and board[6]==mark)\n",
    "           )"
   ]
  },
  {
   "cell_type": "code",
   "execution_count": 25,
   "id": "8f735133",
   "metadata": {},
   "outputs": [
    {
     "data": {
      "text/plain": [
       "False"
      ]
     },
     "execution_count": 25,
     "metadata": {},
     "output_type": "execute_result"
    }
   ],
   "source": [
    "win_check(test_board,'X')"
   ]
  },
  {
   "cell_type": "code",
   "execution_count": 26,
   "id": "644d175c",
   "metadata": {},
   "outputs": [],
   "source": [
    "import random\n",
    "def choose_first():\n",
    "    ans= random.randint(0,1)\n",
    "    if ans==0:\n",
    "        return 'Player 2'\n",
    "    else:\n",
    "        return 'Player 1'"
   ]
  },
  {
   "cell_type": "code",
   "execution_count": 27,
   "id": "23abcb41",
   "metadata": {},
   "outputs": [
    {
     "data": {
      "text/plain": [
       "'Player 1'"
      ]
     },
     "execution_count": 27,
     "metadata": {},
     "output_type": "execute_result"
    }
   ],
   "source": [
    "choose_first()"
   ]
  },
  {
   "cell_type": "code",
   "execution_count": 28,
   "id": "d12f7cb4",
   "metadata": {},
   "outputs": [],
   "source": [
    "def space_check(board,position):\n",
    "    if board[position]!=' ':\n",
    "        return False\n",
    "    else:\n",
    "        return True"
   ]
  },
  {
   "cell_type": "code",
   "execution_count": 29,
   "id": "bdda96fd",
   "metadata": {},
   "outputs": [
    {
     "data": {
      "text/plain": [
       "True"
      ]
     },
     "execution_count": 29,
     "metadata": {},
     "output_type": "execute_result"
    }
   ],
   "source": [
    "space_check(test_board,5)"
   ]
  },
  {
   "cell_type": "code",
   "execution_count": 30,
   "id": "257a52d1",
   "metadata": {},
   "outputs": [],
   "source": [
    "def full_board_check(board):\n",
    "    for i in board:\n",
    "        if i==' ':\n",
    "            return False\n",
    "    return True"
   ]
  },
  {
   "cell_type": "code",
   "execution_count": 31,
   "id": "88e05d45",
   "metadata": {},
   "outputs": [
    {
     "data": {
      "text/plain": [
       "False"
      ]
     },
     "execution_count": 31,
     "metadata": {},
     "output_type": "execute_result"
    }
   ],
   "source": [
    "full_board_check(test_board)"
   ]
  },
  {
   "cell_type": "code",
   "execution_count": 32,
   "id": "253e6540",
   "metadata": {},
   "outputs": [],
   "source": [
    "def player_choice(board):\n",
    "    pos=10\n",
    "    while pos not in [0,1,2,3,4,5,6,7,8] or not space_check(board,pos):\n",
    "        pos=int(input('Choose your next position: (0-8)'))\n",
    "        \n",
    "    return pos"
   ]
  },
  {
   "cell_type": "code",
   "execution_count": 33,
   "id": "3a245242",
   "metadata": {},
   "outputs": [
    {
     "name": "stdout",
     "output_type": "stream",
     "text": [
      "Choose your next position: (0-8)9\n",
      "Choose your next position: (0-8)9\n",
      "Choose your next position: (0-8)5\n"
     ]
    },
    {
     "data": {
      "text/plain": [
       "5"
      ]
     },
     "execution_count": 33,
     "metadata": {},
     "output_type": "execute_result"
    }
   ],
   "source": [
    "player_choice(test_board)"
   ]
  },
  {
   "cell_type": "code",
   "execution_count": 34,
   "id": "b039ef36",
   "metadata": {},
   "outputs": [],
   "source": [
    "def replay():\n",
    "    ans='input(\"Do you want to play again?(Y/N)\")'\n",
    "    while ans!='Y' and ans!='N':\n",
    "        print(\"Please enter Y or N\")\n",
    "        ans=input(\"Do you want to play again?(Y/N)\")\n",
    "    if ans=='Y':\n",
    "        return True"
   ]
  },
  {
   "cell_type": "code",
   "execution_count": 35,
   "id": "d63213d0",
   "metadata": {},
   "outputs": [
    {
     "name": "stdout",
     "output_type": "stream",
     "text": [
      "Please enter Y or N\n",
      "Do you want to play again?(Y/N)yes\n",
      "Please enter Y or N\n",
      "Do you want to play again?(Y/N)no\n",
      "Please enter Y or N\n",
      "Do you want to play again?(Y/N)N\n"
     ]
    }
   ],
   "source": [
    "replay()"
   ]
  },
  {
   "cell_type": "code",
   "execution_count": 36,
   "id": "840a71f7",
   "metadata": {},
   "outputs": [],
   "source": [
    "#Game code"
   ]
  },
  {
   "cell_type": "code",
   "execution_count": 37,
   "id": "963e7bf6",
   "metadata": {},
   "outputs": [
    {
     "name": "stdout",
     "output_type": "stream",
     "text": [
      "Welcome to Tic Tac Toe!\n"
     ]
    }
   ],
   "source": [
    "print('Welcome to Tic Tac Toe!')"
   ]
  },
  {
   "cell_type": "code",
   "execution_count": null,
   "id": "a209ae16",
   "metadata": {},
   "outputs": [
    {
     "name": "stdout",
     "output_type": "stream",
     "text": [
      "X | X | X\n",
      "---------\n",
      "O | O |  \n",
      "---------\n",
      "  |   |  \n",
      "Congrats! You won the game.\n",
      "Please enter Y or N\n",
      "Do you want to play again?(Y/N)y\n",
      "Please enter Y or N\n"
     ]
    }
   ],
   "source": [
    "print('Welcome to Tic Tac Toe!')\n",
    "\n",
    "while True:\n",
    "    #resetting the board\n",
    "    board=[' ']*10\n",
    "    player1, player2=player_input()\n",
    "    turn=choose_first()\n",
    "    print(turn +'will go first.')\n",
    "    \n",
    "    play_game=input('Ready to play? Yes or No')\n",
    "    if play_game.lower()[0]=='y':\n",
    "        game_on=True\n",
    "    else:\n",
    "        game_on=False\n",
    "        \n",
    "    while game_on:\n",
    "        if turn=='Player 1':\n",
    "            display_board(board)\n",
    "            pos=player_choice(board)\n",
    "            place_marker(board,player1,pos)\n",
    "            \n",
    "            if win_check(board,player1):\n",
    "                display_board(board)\n",
    "                print('Congrats! You won the game.')\n",
    "                game_on=False\n",
    "                \n",
    "            else:\n",
    "                if (full_board_check(board)):\n",
    "                    display_board(board)\n",
    "                    print(\"OOPS! It's a draw!\")\n",
    "                    break\n",
    "                else:\n",
    "                        turn='Player 2'\n",
    "                        \n",
    "        else:\n",
    "            display_board(board)\n",
    "            position = player_choice(board)\n",
    "            place_marker(board, player2, position)\n",
    "\n",
    "            if win_check(board, player2):\n",
    "                display_board(board)\n",
    "                print('Player 2 has won!')\n",
    "                game_on = False\n",
    "            else:\n",
    "                if full_board_check(board):\n",
    "                    display_board(board)\n",
    "                    print('The game is a draw!')\n",
    "                    break\n",
    "                else:\n",
    "                    turn = 'Player 1'\n",
    "\n",
    "    if not replay():\n",
    "        print(\"Thanks for playing!\")\n",
    "        break"
   ]
  },
  {
   "cell_type": "code",
   "execution_count": null,
   "id": "1386d56e",
   "metadata": {},
   "outputs": [],
   "source": []
  }
 ],
 "metadata": {
  "kernelspec": {
   "display_name": "Python 3",
   "language": "python",
   "name": "python3"
  },
  "language_info": {
   "codemirror_mode": {
    "name": "ipython",
    "version": 3
   },
   "file_extension": ".py",
   "mimetype": "text/x-python",
   "name": "python",
   "nbconvert_exporter": "python",
   "pygments_lexer": "ipython3",
   "version": "3.8.8"
  }
 },
 "nbformat": 4,
 "nbformat_minor": 5
}
